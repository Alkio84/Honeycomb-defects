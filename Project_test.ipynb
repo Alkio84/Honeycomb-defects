{
  "nbformat": 4,
  "nbformat_minor": 0,
  "metadata": {
    "colab": {
      "name": "Project_test.ipynb",
      "provenance": [],
      "toc_visible": true,
      "mount_file_id": "1KQ9EUue1NsIxCI60VAjQmbnfgl8GkcvH",
      "authorship_tag": "ABX9TyNTiJbe6ZqzoLGcVyb08WJD",
      "include_colab_link": true
    },
    "kernelspec": {
      "name": "python3",
      "display_name": "Python 3"
    },
    "language_info": {
      "name": "python"
    }
  },
  "cells": [
    {
      "cell_type": "markdown",
      "metadata": {
        "id": "view-in-github",
        "colab_type": "text"
      },
      "source": [
        "<a href=\"https://colab.research.google.com/github/Alkio84/Honeycomb-defects/blob/main/Project_test.ipynb\" target=\"_parent\"><img src=\"https://colab.research.google.com/assets/colab-badge.svg\" alt=\"Open In Colab\"/></a>"
      ]
    },
    {
      "cell_type": "code",
      "source": [
        "from google.colab import drive\n",
        "drive.mount('/content/drive')"
      ],
      "metadata": {
        "colab": {
          "base_uri": "https://localhost:8080/"
        },
        "id": "apoS5HU1pvqd",
        "outputId": "5e9fa413-a8f4-42df-c5c1-02673aafeac0"
      },
      "execution_count": null,
      "outputs": [
        {
          "output_type": "stream",
          "name": "stdout",
          "text": [
            "Drive already mounted at /content/drive; to attempt to forcibly remount, call drive.mount(\"/content/drive\", force_remount=True).\n"
          ]
        }
      ]
    },
    {
      "cell_type": "code",
      "source": [
        "%%capture\n",
        "!pip install -U labelme2coco"
      ],
      "metadata": {
        "id": "m5xV9YRb090H"
      },
      "execution_count": null,
      "outputs": []
    },
    {
      "cell_type": "code",
      "source": [
        "exit()"
      ],
      "metadata": {
        "id": "qAeOYdSr1TFp"
      },
      "execution_count": null,
      "outputs": []
    },
    {
      "cell_type": "code",
      "source": [
        "# import package\n",
        "import labelme2coco\n",
        "\n",
        "# set directory that contains labelme annotations and image files\n",
        "labelme_folder = \"/content/drive/MyDrive/Data\"\n",
        "\n",
        "# set export dir\n",
        "export_dir = \"/content/drive/MyDrive/Data/labels\"\n",
        "\n",
        "# set train split rate\n",
        "train_split_rate = 0.85\n",
        "\n",
        "# convert labelme annotations to coco\n",
        "labelme2coco.convert(labelme_folder, export_dir, train_split_rate)\n"
      ],
      "metadata": {
        "colab": {
          "base_uri": "https://localhost:8080/",
          "height": 393
        },
        "outputId": "1120439a-9802-4e2d-d810-eec40b56ddc3",
        "id": "IcvfUOCtHvMK"
      },
      "execution_count": null,
      "outputs": [
        {
          "output_type": "stream",
          "name": "stdout",
          "text": [
            "There are 92 listed files in folder Data.\n"
          ]
        },
        {
          "output_type": "stream",
          "name": "stderr",
          "text": [
            "Converting labelme annotations to COCO format:   0%|          | 0/92 [00:00<?, ?it/s]\n"
          ]
        },
        {
          "output_type": "error",
          "ename": "FileNotFoundError",
          "evalue": "ignored",
          "traceback": [
            "\u001b[0;31m---------------------------------------------------------------------------\u001b[0m",
            "\u001b[0;31mFileNotFoundError\u001b[0m                         Traceback (most recent call last)",
            "\u001b[0;32m<ipython-input-30-3dfa4baf2a64>\u001b[0m in \u001b[0;36m<module>\u001b[0;34m()\u001b[0m\n\u001b[1;32m     12\u001b[0m \u001b[0;34m\u001b[0m\u001b[0m\n\u001b[1;32m     13\u001b[0m \u001b[0;31m# convert labelme annotations to coco\u001b[0m\u001b[0;34m\u001b[0m\u001b[0;34m\u001b[0m\u001b[0;34m\u001b[0m\u001b[0m\n\u001b[0;32m---> 14\u001b[0;31m \u001b[0mlabelme2coco\u001b[0m\u001b[0;34m.\u001b[0m\u001b[0mconvert\u001b[0m\u001b[0;34m(\u001b[0m\u001b[0mlabelme_folder\u001b[0m\u001b[0;34m,\u001b[0m \u001b[0mexport_dir\u001b[0m\u001b[0;34m,\u001b[0m \u001b[0mtrain_split_rate\u001b[0m\u001b[0;34m)\u001b[0m\u001b[0;34m\u001b[0m\u001b[0;34m\u001b[0m\u001b[0m\n\u001b[0m",
            "\u001b[0;32m/usr/local/lib/python3.7/dist-packages/labelme2coco/__init__.py\u001b[0m in \u001b[0;36mconvert\u001b[0;34m(labelme_folder, export_dir, train_split_rate)\u001b[0m\n\u001b[1;32m     30\u001b[0m         \u001b[0mtrain_split_rate\u001b[0m\u001b[0;34m:\u001b[0m \u001b[0mration\u001b[0m \u001b[0mfo\u001b[0m \u001b[0mtrain\u001b[0m \u001b[0msplit\u001b[0m\u001b[0;34m\u001b[0m\u001b[0;34m\u001b[0m\u001b[0m\n\u001b[1;32m     31\u001b[0m     \"\"\"\n\u001b[0;32m---> 32\u001b[0;31m     \u001b[0mcoco\u001b[0m \u001b[0;34m=\u001b[0m \u001b[0mget_coco_from_labelme_folder\u001b[0m\u001b[0;34m(\u001b[0m\u001b[0mlabelme_folder\u001b[0m\u001b[0;34m)\u001b[0m\u001b[0;34m\u001b[0m\u001b[0;34m\u001b[0m\u001b[0m\n\u001b[0m\u001b[1;32m     33\u001b[0m     \u001b[0;32mif\u001b[0m \u001b[0mtrain_split_rate\u001b[0m \u001b[0;34m<\u001b[0m \u001b[0;36m1\u001b[0m\u001b[0;34m:\u001b[0m\u001b[0;34m\u001b[0m\u001b[0;34m\u001b[0m\u001b[0m\n\u001b[1;32m     34\u001b[0m         \u001b[0mresult\u001b[0m \u001b[0;34m=\u001b[0m \u001b[0mcoco\u001b[0m\u001b[0;34m.\u001b[0m\u001b[0msplit_coco_as_train_val\u001b[0m\u001b[0;34m(\u001b[0m\u001b[0mtrain_split_rate\u001b[0m\u001b[0;34m)\u001b[0m\u001b[0;34m\u001b[0m\u001b[0;34m\u001b[0m\u001b[0m\n",
            "\u001b[0;32m/usr/local/lib/python3.7/dist-packages/labelme2coco/labelme2coco.py\u001b[0m in \u001b[0;36mget_coco_from_labelme_folder\u001b[0;34m(labelme_folder, coco_category_list)\u001b[0m\n\u001b[1;32m     42\u001b[0m         \u001b[0;31m# get image size\u001b[0m\u001b[0;34m\u001b[0m\u001b[0;34m\u001b[0m\u001b[0;34m\u001b[0m\u001b[0m\n\u001b[1;32m     43\u001b[0m         \u001b[0mimage_path\u001b[0m \u001b[0;34m=\u001b[0m \u001b[0mstr\u001b[0m\u001b[0;34m(\u001b[0m\u001b[0mPath\u001b[0m\u001b[0;34m(\u001b[0m\u001b[0mlabelme_folder\u001b[0m\u001b[0;34m)\u001b[0m \u001b[0;34m/\u001b[0m \u001b[0mdata\u001b[0m\u001b[0;34m[\u001b[0m\u001b[0;34m\"imagePath\"\u001b[0m\u001b[0;34m]\u001b[0m\u001b[0;34m)\u001b[0m\u001b[0;34m\u001b[0m\u001b[0;34m\u001b[0m\u001b[0m\n\u001b[0;32m---> 44\u001b[0;31m         \u001b[0mwidth\u001b[0m\u001b[0;34m,\u001b[0m \u001b[0mheight\u001b[0m \u001b[0;34m=\u001b[0m \u001b[0mImage\u001b[0m\u001b[0;34m.\u001b[0m\u001b[0mopen\u001b[0m\u001b[0;34m(\u001b[0m\u001b[0mimage_path\u001b[0m\u001b[0;34m)\u001b[0m\u001b[0;34m.\u001b[0m\u001b[0msize\u001b[0m\u001b[0;34m\u001b[0m\u001b[0;34m\u001b[0m\u001b[0m\n\u001b[0m\u001b[1;32m     45\u001b[0m         \u001b[0;31m# init coco image\u001b[0m\u001b[0;34m\u001b[0m\u001b[0;34m\u001b[0m\u001b[0;34m\u001b[0m\u001b[0m\n\u001b[1;32m     46\u001b[0m         \u001b[0mcoco_image\u001b[0m \u001b[0;34m=\u001b[0m \u001b[0mCocoImage\u001b[0m\u001b[0;34m(\u001b[0m\u001b[0mfile_name\u001b[0m\u001b[0;34m=\u001b[0m\u001b[0mdata\u001b[0m\u001b[0;34m[\u001b[0m\u001b[0;34m\"imagePath\"\u001b[0m\u001b[0;34m]\u001b[0m\u001b[0;34m,\u001b[0m \u001b[0mheight\u001b[0m\u001b[0;34m=\u001b[0m\u001b[0mheight\u001b[0m\u001b[0;34m,\u001b[0m \u001b[0mwidth\u001b[0m\u001b[0;34m=\u001b[0m\u001b[0mwidth\u001b[0m\u001b[0;34m)\u001b[0m\u001b[0;34m\u001b[0m\u001b[0;34m\u001b[0m\u001b[0m\n",
            "\u001b[0;32m/usr/local/lib/python3.7/dist-packages/PIL/Image.py\u001b[0m in \u001b[0;36mopen\u001b[0;34m(fp, mode, formats)\u001b[0m\n\u001b[1;32m   3066\u001b[0m \u001b[0;34m\u001b[0m\u001b[0m\n\u001b[1;32m   3067\u001b[0m     \u001b[0;32mif\u001b[0m \u001b[0mfilename\u001b[0m\u001b[0;34m:\u001b[0m\u001b[0;34m\u001b[0m\u001b[0;34m\u001b[0m\u001b[0m\n\u001b[0;32m-> 3068\u001b[0;31m         \u001b[0mfp\u001b[0m \u001b[0;34m=\u001b[0m \u001b[0mbuiltins\u001b[0m\u001b[0;34m.\u001b[0m\u001b[0mopen\u001b[0m\u001b[0;34m(\u001b[0m\u001b[0mfilename\u001b[0m\u001b[0;34m,\u001b[0m \u001b[0;34m\"rb\"\u001b[0m\u001b[0;34m)\u001b[0m\u001b[0;34m\u001b[0m\u001b[0;34m\u001b[0m\u001b[0m\n\u001b[0m\u001b[1;32m   3069\u001b[0m         \u001b[0mexclusive_fp\u001b[0m \u001b[0;34m=\u001b[0m \u001b[0;32mTrue\u001b[0m\u001b[0;34m\u001b[0m\u001b[0;34m\u001b[0m\u001b[0m\n\u001b[1;32m   3070\u001b[0m \u001b[0;34m\u001b[0m\u001b[0m\n",
            "\u001b[0;31mFileNotFoundError\u001b[0m: [Errno 2] No such file or directory: '/Images/Part2_v1/Part2_v1-crop2.jpg'"
          ]
        }
      ]
    },
    {
      "cell_type": "code",
      "source": [
        "# import package\n",
        "import labelme2coco\n",
        "\n",
        "# set directory that contains labelme annotations and image files\n",
        "labelme_folder = \"/content/drive/MyDrive/Data\"\n",
        "\n",
        "# set export dir\n",
        "export_dir = \"/content/drive/MyDrive/Data/labels\"\n",
        "\n",
        "# set train split rate\n",
        "train_split_rate = 0.85\n",
        "\n",
        "# convert labelme annotations to coco\n",
        "labelme2coco.convert(labelme_folder, export_dir, train_split_rate)\n"
      ],
      "metadata": {
        "colab": {
          "base_uri": "https://localhost:8080/"
        },
        "id": "2g3UamSOtOl_",
        "outputId": "d7ecf6bb-a88d-4b72-f9b4-586b7658b85e"
      },
      "execution_count": null,
      "outputs": [
        {
          "output_type": "stream",
          "name": "stdout",
          "text": [
            "There are 90 listed files in folder Data.\n"
          ]
        },
        {
          "output_type": "stream",
          "name": "stderr",
          "text": [
            "Converting labelme annotations to COCO format: 100%|██████████| 90/90 [00:00<00:00, 113.01it/s]\n"
          ]
        },
        {
          "output_type": "stream",
          "name": "stdout",
          "text": [
            "Training split in COCO format is exported to /content/drive/MyDrive/Data/labels/train.json\n",
            "Validation split in COCO format is exported to /content/drive/MyDrive/Data/labels/val.json\n"
          ]
        }
      ]
    },
    {
      "cell_type": "code",
      "source": [
        "import os\n",
        "import glob, os, shutil\n",
        "from distutils.dir_util import copy_tree\n",
        "import labelme2coco\n",
        "from labelme2coco import get_coco_from_labelme_folder, save_json"
      ],
      "metadata": {
        "id": "Ed0t-LuZrtGZ"
      },
      "execution_count": null,
      "outputs": []
    },
    {
      "cell_type": "code",
      "execution_count": null,
      "metadata": {
        "id": "kOWKqUb7pAW8"
      },
      "outputs": [],
      "source": [
        "%%capture\n",
        "!pip install fiftyone folium==0.2.1 opencv-python==4.1.2.30 opencv-python-headless==4.1.2.30"
      ]
    },
    {
      "cell_type": "code",
      "source": [
        "import fiftyone as fo"
      ],
      "metadata": {
        "colab": {
          "base_uri": "https://localhost:8080/"
        },
        "id": "n4KG4r7KB0Pu",
        "outputId": "f0613a28-99b2-4512-d6dd-067b2acfba2e"
      },
      "execution_count": null,
      "outputs": [
        {
          "output_type": "stream",
          "name": "stdout",
          "text": [
            "NumExpr defaulting to 2 threads.\n",
            "Migrating database to v0.15.1\n"
          ]
        }
      ]
    },
    {
      "cell_type": "code",
      "source": [
        "exit()"
      ],
      "metadata": {
        "id": "z2MQ8waiN8Hg"
      },
      "execution_count": null,
      "outputs": []
    },
    {
      "cell_type": "code",
      "source": [
        "# The directory containing the dataset to import\n",
        "dataset_dir = \"/content/drive/MyDrive/Data/Images/\"\n",
        "labels_dir = \"/content/drive/MyDrive/Data/labels/train.json\"\n",
        "\n",
        "# The type of the dataset being imported\n",
        "dataset_type = fo.types.COCODetectionDataset"
      ],
      "metadata": {
        "id": "9-B3xJsfMLk3"
      },
      "execution_count": null,
      "outputs": []
    },
    {
      "cell_type": "code",
      "source": [
        "dataset = fo.Dataset.from_dir(\n",
        "    data_path=dataset_dir,\n",
        "    labels_path=labels_dir,\n",
        "    dataset_type=dataset_type,\n",
        "    label_types=[\"detections\", \"segmentations\"]\n",
        ")\n",
        "dataset.default_mask_targets = {0:\"defect\", 255:\"other\"}\n",
        "dataset.save()\n",
        "print(dataset)"
      ],
      "metadata": {
        "colab": {
          "base_uri": "https://localhost:8080/"
        },
        "id": "0DsA9kS1MLnd",
        "outputId": "3326210d-39e4-4ddc-be37-f3fddf120c85"
      },
      "execution_count": null,
      "outputs": [
        {
          "output_type": "stream",
          "name": "stdout",
          "text": [
            " 100% |███████████████████| 76/76 [9.1s elapsed, 0s remaining, 8.0 samples/s]       \n",
            "Name:        2022.05.16.15.58.19\n",
            "Media type:  image\n",
            "Num samples: 76\n",
            "Persistent:  False\n",
            "Tags:        []\n",
            "Sample fields:\n",
            "    id:            fiftyone.core.fields.ObjectIdField\n",
            "    filepath:      fiftyone.core.fields.StringField\n",
            "    tags:          fiftyone.core.fields.ListField(fiftyone.core.fields.StringField)\n",
            "    metadata:      fiftyone.core.fields.EmbeddedDocumentField(fiftyone.core.metadata.Metadata)\n",
            "    detections:    fiftyone.core.fields.EmbeddedDocumentField(fiftyone.core.labels.Detections)\n",
            "    segmentations: fiftyone.core.fields.EmbeddedDocumentField(fiftyone.core.labels.Detections)\n"
          ]
        }
      ]
    },
    {
      "cell_type": "code",
      "source": [
        "session = fo.launch_app(dataset)"
      ],
      "metadata": {
        "colab": {
          "resources": {
            "https://localhost:5151/polling?sessionId=72cfa808-3391-4bea-a019-3f9869d76d60": {
              "data": "eyJtZXNzYWdlcyI6IFtdfQ==",
              "ok": true,
              "headers": [
                [
                  "access-control-allow-headers",
                  "x-requested-with"
                ],
                [
                  "content-type",
                  "text/html; charset=UTF-8"
                ]
              ],
              "status": 200,
              "status_text": ""
            }
          },
          "base_uri": "https://localhost:8080/",
          "height": 821
        },
        "id": "03aM1dL6MLpe",
        "outputId": "dc22f271-50e0-44ca-ca09-d28ce25c8602"
      },
      "execution_count": null,
      "outputs": [
        {
          "output_type": "display_data",
          "data": {
            "text/plain": [
              "<IPython.core.display.HTML object>"
            ],
            "text/html": [
              "\n",
              "<style>\n",
              "\n",
              "@import url(\"https://fonts.googleapis.com/css2?family=Palanquin&display=swap\");\n",
              "\n",
              "#focontainer-19edf5c5-f750-4649-b406-82eb74c250a1 {\n",
              "  position: relative;\n",
              "  display: block !important;\n",
              "}\n",
              "#foactivate-19edf5c5-f750-4649-b406-82eb74c250a1 {\n",
              "  font-weight: bold;\n",
              "  cursor: pointer;\n",
              "  font-size: 24px;\n",
              "  border-radius: 3px;\n",
              "  text-align: center;\n",
              "  padding: 0.5em;\n",
              "  color: rgb(255, 255, 255);\n",
              "  font-family: \"Palanquin\", sans-serif;\n",
              "  position: absolute;\n",
              "  left: 50%;\n",
              "  top: 50%;\n",
              "  width: 160px;\n",
              "  margin-left: -80px;\n",
              "  margin-top: -23px;\n",
              "  background: hsla(210,11%,15%, 0.8);\n",
              "  border: none;\n",
              "}\n",
              "#foactivate-19edf5c5-f750-4649-b406-82eb74c250a1:focus {\n",
              "  outline: none;\n",
              "}\n",
              "#fooverlay-19edf5c5-f750-4649-b406-82eb74c250a1 {\n",
              "  width: 100%;\n",
              "  height: 100%;\n",
              "  background: hsla(208, 7%, 46%, 0.7);\n",
              "  position: absolute;\n",
              "  top: 0;\n",
              "  left: 0;\n",
              "  display: none;\n",
              "  cursor: pointer;\n",
              "}\n",
              "</style>\n",
              "<div id=\"focontainer-19edf5c5-f750-4649-b406-82eb74c250a1\" style=\"display: none;\">\n",
              "   <div id=\"fooverlay-19edf5c5-f750-4649-b406-82eb74c250a1\">\n",
              "      <button id=\"foactivate-19edf5c5-f750-4649-b406-82eb74c250a1\" >Activate</button>\n",
              "   </div>\n",
              "</div>"
            ]
          },
          "metadata": {}
        }
      ]
    },
    {
      "cell_type": "code",
      "source": [
        "import re\n",
        "import os\n",
        "\n",
        "for filename in os.listdir(\"/content/drive/MyDrive/Data\"):\n",
        "    if filename.endswith(\"json\"): \n",
        "        # Read in the file\n",
        "      with open(\"/content/drive/MyDrive/Data/\"+ filename, 'r') as file :\n",
        "        filedata = file.readlines()\n",
        "\n",
        "      for i, line in enumerate(filedata):\n",
        "        if line.startswith('  \"imagePath\"'):\n",
        "          folder = re.search('Part._v.', line)\n",
        "          name = re.search('Part._v.-crop.\\.jpg', line)\n",
        "          line = '  \"imagePath\": \"/content/drive/MyDrive/Data/Images/' + folder[0] + '/'+ name[0] + '\",\\n'\n",
        "          filedata[i] = line\n",
        "      with open(\"/content/drive/MyDrive/Data/\"+ filename, 'w') as file :\n",
        "        file.writelines(filedata)\n"
      ],
      "metadata": {
        "id": "sGlKgUCmIqvW"
      },
      "execution_count": null,
      "outputs": []
    }
  ]
}